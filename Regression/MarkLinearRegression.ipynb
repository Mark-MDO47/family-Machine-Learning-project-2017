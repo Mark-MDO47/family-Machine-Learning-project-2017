{
 "cells": [
  {
   "cell_type": "markdown",
   "metadata": {
    "collapsed": true
   },
   "source": [
    "## Attribution\n",
    "This is taken from several sources, largely\n",
    "##### \"Hands-On Machine Learning with SciKit-Learn and TensorFlow\" by A. Geron\n",
    "##### \"Python Machine Learning\" by S. Raschke\n",
    "##### \"Deep Learning\" by Goodfellow, Bengio, and Courville\n",
    "##### Wikipedia.org\n",
    "##### The inimitable www.google.com"
   ]
  },
  {
   "cell_type": "markdown",
   "metadata": {},
   "source": [
    "\n",
    "# Linear Regression\n",
    "\n",
    "### Linear\n",
    "Linear Regression (a special case of regression) takes a single value or set of values (think X)\n",
    "and calculates a prediction (think $\\hat y$ - the hat means estimate) with the formula:\n",
    "\n",
    "$\\hat y$ = $\\hat a$X + $\\hat b$\n",
    "\n",
    "This is a Linear prediction (a straight line); it assumes that the real (and the training) data is generated from a true underlying \"model\" such as:\n",
    "\n",
    "y = aX + b + noise\n",
    "\n",
    "Note that the true underlying model uses \"a\" and \"b\" since those are the TRUE values, while the prediction uses \"$\\hat a$\" and \"$\\hat b$\" since those are ESTIMATES of the true values.\n",
    "\n",
    "Usually a and b are written as ${\\theta}_1$ and ${\\theta}_0$ respectively and the equation is re-ordered:\n",
    "\n",
    "$\\hat y$ = ${\\theta}_0$ + ${\\theta}_1$X\n",
    "\n",
    "y = ${\\theta}_0$ + ${\\theta}_1$X + noise\n",
    "\n",
    "Why would we do this when the aX + b form is so familiar? Because we will soon see cases of Linear Regression applied to data using higher degrees of X - this technique is called Multinomial Regression. For these types of equations we don't want to run out of \"a\"s and \"b\"s. Here is an example of a quadratic form Multinomial Regression model:\n",
    "\n",
    "y = ${\\theta}_0$ + ${\\theta}_1$X + ${\\theta}_2$$\\mathrm{X}^{2}$ + noise\n",
    "\n",
    "Another variation is that X is not necessarily just one dimension, it can be a vector with as many dimensions (or features) as desired. For instance when we looked at housing data it had features such as median income in the area, number of people in the area, number of bedrooms in the house, etc. Because there are multiple \"x\"s, that is called multivariate linear regression.\n"
   ]
  },
  {
   "cell_type": "markdown",
   "metadata": {},
   "source": [
    "### Wikipedia\n",
    "\n",
    "Time to quit prevaricating about the bush:\n",
    "\n",
    "##### In statistics, linear regression is an approach for modeling the relationship between a scalar dependent variable y and one or more explanatory variables (or independent variables) denoted X. The case of one explanatory variable is called simple linear regression. For more than one explanatory variable, the process is called multiple linear regression. (This term is distinct from multivariate linear regression, where multiple correlated dependent variables are predicted, rather than a single scalar variable.)\n"
   ]
  },
  {
   "cell_type": "markdown",
   "metadata": {},
   "source": [
    "### Regression\n",
    "\n",
    "For Artificial Intelligence, Regression is often used to predict a value (scalar or vector) based on the input data point (aka the explanatory variable(s), which could be scalar or vector). This is done by first calculating the desired parameters of the model, then using these parameters in the model equation to transform the input data point into the prediction.\n",
    "\n",
    "But how do we calculate the model parameters, and what do we use to decide that one set of model parameter values is better than a different set? \n",
    "\n",
    "The parameter values ${\\theta}_0$ and ${\\theta}_1$ are calculated to optimize the prediction compared to the training data using some criteria decided ahead of time.\n",
    "\n",
    "Typical criteria might be RMSE (Root Mean Squared Error).\n",
    "\n",
    "RMSE = $\\sqrt{\\mathrm{\\sum(y - \\hat y)}^{2}}$\n",
    "\n",
    "Normally it is mathematically easier to deal with MSE (Mean Squared Error) and minimizing this will also minimize RMSE.\n",
    "\n",
    "MSE = $\\mathrm{\\sum(y - \\hat y)}^{2}$\n",
    "\n",
    "There can be different criteria...\n"
   ]
  },
  {
   "cell_type": "markdown",
   "metadata": {},
   "source": [
    "### The Normal Equation\n",
    "\n",
    "For a simple system like this, we can actually calculate the answer directly given any particular example of training data (the examples of X and resulting actual y). You can look up the math easily, it is called the Normal Equation for Simple Linear Regression. Excel even has a way to calculate and plot this automatically.\n",
    "\n",
    "However, later we will be dealing with systems of equations that do not have a closed form solution, so we are more interested in how we would solve this without being able to directly calculate the answer. In general this is known as\n",
    "\n",
    "### Finding the Regression Coefficients using Successive Approximation"
   ]
  },
  {
   "cell_type": "code",
   "execution_count": 1,
   "metadata": {
    "collapsed": true
   },
   "outputs": [],
   "source": [
    "# Finding the regression coefficients using normal equation and successive approximation\n",
    "#\n",
    "# Below line is to support both python 2 and python 3\n",
    "from __future__ import division, print_function, unicode_literals\n",
    "\n",
    "# Common imports\n",
    "import numpy as np\n",
    "import os\n",
    "\n",
    "# to make this notebook's output stable across runs\n",
    "np.random.seed(42)\n",
    "\n",
    "# To plot pretty figures\n",
    "%matplotlib inline\n",
    "import matplotlib\n",
    "import matplotlib.pyplot as plt\n",
    "plt.rcParams['axes.labelsize'] = 14\n",
    "plt.rcParams['xtick.labelsize'] = 12\n",
    "plt.rcParams['ytick.labelsize'] = 12\n",
    "\n",
    "# Where to save the figures\n",
    "PROJECT_ROOT_DIR = \".\"\n",
    "CHAPTER_ID = \"training_linear_models\"\n",
    "\n",
    "def save_fig(fig_id, tight_layout=True):\n",
    "    return # for now we will not save the plots\n",
    "    path = os.path.join(PROJECT_ROOT_DIR, \"images\", CHAPTER_ID, fig_id + \".png\")\n",
    "    print(\"Saving figure\", fig_id)\n",
    "    if tight_layout:\n",
    "        plt.tight_layout()\n",
    "    plt.savefig(path, format='png', dpi=300)\n"
   ]
  },
  {
   "cell_type": "code",
   "execution_count": 2,
   "metadata": {
    "collapsed": true
   },
   "outputs": [],
   "source": [
    "# let's generate some data - 100 data points\n",
    "#\n",
    "import numpy as np\n",
    "\n",
    "X = 2 * np.random.rand(100, 1)\n",
    "y = 4 + 3 * X + np.random.randn(100, 1)"
   ]
  },
  {
   "cell_type": "code",
   "execution_count": 3,
   "metadata": {},
   "outputs": [
    {
     "data": {
      "image/png": "[encoded data removed]",
      "text/plain": [
       "<matplotlib.figure.Figure at 0x1bde25befd0>"
      ]
     },
     "metadata": {},
     "output_type": "display_data"
    }
   ],
   "source": [
    "# Now let's look at it\n",
    "#\n",
    "plt.plot(X, y, \"b.\")\n",
    "plt.xlabel(\"$x_1$\", fontsize=18)\n",
    "plt.ylabel(\"$y$\", rotation=0, fontsize=18)\n",
    "plt.axis([0, 2, 0, 15])\n",
    "save_fig(\"generated_data_plot\")\n",
    "plt.show()"
   ]
  },
  {
   "cell_type": "code",
   "execution_count": 4,
   "metadata": {},
   "outputs": [
    {
     "data": {
      "text/plain": [
       "array([[ 4.21509616],\n",
       "       [ 2.77011339]])"
      ]
     },
     "execution_count": 4,
     "metadata": {},
     "output_type": "execute_result"
    }
   ],
   "source": [
    "# calculate the best fit straight line to minimize MSE (Linear Regression with MSE)\n",
    "#    using the Normal Equation\n",
    "# as part of this we will use the \"inv\" function to invert a matrix\n",
    "#\n",
    "X_b = np.c_[np.ones((100, 1)), X]  # add x0 = 1 to each instance\n",
    "theta_best = np.linalg.inv(X_b.T.dot(X_b)).dot(X_b.T).dot(y)\n",
    "theta_best"
   ]
  },
  {
   "cell_type": "markdown",
   "metadata": {},
   "source": [
    "##### Hmmm\n",
    "\n",
    "The underlying model (as you saw above) was\n",
    "\n",
    "y = 4.000 + 3.000X + noise\n",
    "\n",
    "The calculated result from above and restated below may change depending on the initialization of the random number generator but when I did it, it looked like this\n",
    "\n",
    "$\\hat y$ = 4.215 + 2.770X + NoNoise\n",
    "\n",
    "Not perfect!!! Based on 100 training sample points and a fairly large noise injection, this is as good as we can do. Remember, this was the direct calculation of parameters for the minimum MSE so it is the exact minumum Mean Standard Error!\n",
    "\n",
    "##### Let's Make some Predictions\n",
    "\n",
    "Now we have the parameters, let's predict a start and end point of our model line and plot the predict line versus the training data.\n",
    "\n",
    "For the training data, X goes from [0, 2] so let's make predictions at those endpoints."
   ]
  },
  {
   "cell_type": "code",
   "execution_count": 10,
   "metadata": {},
   "outputs": [
    {
     "name": "stdout",
     "output_type": "stream",
     "text": [
      "[[ 1.  0.]\n",
      " [ 1.  2.]]\n",
      "Y-values for [[0], [2]] are:\n",
      "[[ 4.21509616]\n",
      " [ 9.75532293]]\n",
      "\n",
      "Red line is Simple Linear Regression Prediction\n",
      "Green line is True model.\n"
     ]
    },
    {
     "data": {
      "image/png": "[encoded data removed]",
      "text/plain": [
       "<matplotlib.figure.Figure at 0x1bde31aada0>"
      ]
     },
     "metadata": {},
     "output_type": "display_data"
    }
   ],
   "source": [
    "# X_new contains the endpoints [0,2]. X_new_b puts them in a form we can use to do the calcs\n",
    "#    we use a dot-product for the calculation\n",
    "#\n",
    "X_new = np.array([[0], [2]])\n",
    "X_new_b = np.c_[np.ones((2, 1)), X_new]  # add x0 = 1 to each instance\n",
    "print(X_new_b)\n",
    "y_predict = X_new_b.dot(theta_best)\n",
    "y_true = [[4], [10]]\n",
    "print(\"Y-values for [[0], [2]] are:\\n%s\\n\\nRed line is Simple Linear Regression Prediction\\nGreen line is True model.\" % y_predict)\n",
    "plt.plot(X_new, y_predict, \"r-\", label=\"LR Predictions\")\n",
    "plt.plot(X_new, y_true, \"g-\", label=\"True Model\")\n",
    "plt.plot(X, y, \"b.\")\n",
    "plt.xlabel(\"$x_1$\", fontsize=18)\n",
    "plt.ylabel(\"$y$\", rotation=0, fontsize=18)\n",
    "plt.legend(loc=\"upper left\", fontsize=14)\n",
    "plt.axis([0, 2, 3, 11.5])\n",
    "plt.show()"
   ]
  },
  {
   "cell_type": "markdown",
   "metadata": {},
   "source": [
    "##### Not Fair! Now use Successive Approximation!\n",
    "\n",
    "OK I did say we won't go too far into the Normal Equation and that Successive Approximation is the key to the success (ha ha! that's a pun!) of Machine Learning recently.\n",
    "\n",
    "###### Here comes the math...\n",
    "\n",
    "You recall that when you want to find the minimum or maximum of a function you will find it where the derivative or slope of the function is  zero."
   ]
  },
  {
   "cell_type": "code",
   "execution_count": 9,
   "metadata": {},
   "outputs": [
    {
     "data": {
      "image/png": "[encoded data removed]",
      "text/plain": [
       "<matplotlib.figure.Figure at 0x1bde3225128>"
      ]
     },
     "metadata": {},
     "output_type": "display_data"
    }
   ],
   "source": [
    "# Let's show a case of the minimum point being at zero slope\n",
    "X_q = np.arange(-5, 5, 0.01)\n",
    "y_q = np.empty(shape=(len(X_q)))\n",
    "for idx in range(len(X_q)):\n",
    "   y_q[idx] = X_q[idx]*X_q[idx] + 3.0\n",
    "X_slope = [[-5], [5]]\n",
    "y_slope = [[3], [3]]\n",
    "plt.plot(X_slope, y_slope, \"r-\", label=\"Slope\")\n",
    "plt.plot(X_q, y_q, \"b,\", label=\"Curve\")\n",
    "plt.xlabel(\"$x_1$\", fontsize=18)\n",
    "plt.ylabel(\"$y$\", rotation=0, fontsize=18)\n",
    "plt.legend(loc=\"upper left\", fontsize=14)\n",
    "plt.axis([-5, +5, 0, 10])\n",
    "plt.show()"
   ]
  },
  {
   "cell_type": "markdown",
   "metadata": {},
   "source": [
    "##### What they didn't tell you about Derivatives\n",
    "\n",
    "(not the financial market kind)\n",
    "\n",
    "Great! Just find zeros of the derivative of the curve to find minima and maxima.\n",
    "\n",
    "You are familiar with derivatives of a continuous function of one variable generating a result of one variable such as:\n",
    "\n",
    "y = ${\\theta}_0$ + ${\\theta}_1x$ + ${\\theta}_2$$\\mathrm x^{2}$\n",
    "\n",
    "... or even an infinite series such as:\n",
    "\n",
    "y = $\\sum_{i=0}^{\\infty} {{\\theta}}_i x^{i}$\n",
    "\n",
    "##### Vector and Tensor Equations\n",
    "\n",
    "If the \"x\" in these equations is not a scalar but instead a vector \"${X}$\" (or more generally a tensor) then the ${\\theta}$ terms must also become a tensor, in the other direction compared to ${X}$, so the dot product result is a scalar. Here is an example:\n",
    "\n",
    "${f}_2({X})$ = ${\\theta}_2$$\\mathrm{X}^{2}$\n",
    "\n",
    "Where:\n",
    "\n",
    "$ \\begin{equation*}\n",
    "{\\theta}_2 = \\begin{vmatrix}\n",
    "{\\theta}_{2,0}\\\\\n",
    "{\\theta}_{2,1}\\\\\n",
    "{\\theta}_{2,2} \\end{vmatrix}\n",
    "= \\begin{vmatrix}\n",
    "1\\\\\n",
    "2\\\\\n",
    "3 \\end{vmatrix}\n",
    "\\end{equation*}$\n",
    "\n",
    "$\\begin{equation*}\n",
    "{X} = \\begin{vmatrix}\n",
    "x_0 & x_1 & x_2 \\end{vmatrix}\n",
    "\\end{equation*}$\n",
    "\n",
    "Performing the dot products:\n",
    "\n",
    "${f}_2({X})$ = $\\sum_{i=0}^{2} {\\theta}_{2,i} {x_i}^{2}$ = ${\\theta}_{2,0} {x_0}^{2}$ + ${\\theta}_{2,1} {x_1}^{2}$ + ${\\theta}_{2,2} {x_2}^{2}$\n",
    "\n",
    "Because ${X}$ is a vector/tensor, ${f}_2({X})$ does not have a simple derivative. It has a \"total\" derivative which can get quite complicated as the equations get more complicated. There is also a \"partial\" derivative which is used all the time in machine learning. Fortunately the partial derivative is the easiest to calculate!\n",
    "\n",
    "The partial derivative of ${f}_2({X})$ with respect to the \"$x_i$\" part of the vector/tensor ${X}$ is denoted $\\frac{\\partial {f}_2}{\\partial x_i}$.\n",
    "\n",
    "To calculate this partial derivative, you hold everything else including the other $x_j$ as constant and then take the derivative with respect to just the $x_i$ of interest. This tells you the slope of the curve in the direction of \"just that part\" of ${X}$. For instance:\n",
    "\n",
    "$\\frac{\\partial {f}_2}{\\partial x_0}$ = $\\frac{\\partial ({\\theta}_{2,0} {{X}_0}^{2} + constant)}{\\partial x_0}$ = $2 {\\theta}_{2,0} x_0$\n",
    "\n",
    "$\\frac{\\partial {f}_2}{\\partial x_1}$ = $2 {\\theta}_{2,1} x_1$\n",
    "\n",
    "$\\frac{\\partial {f}_2}{\\partial x_2}$ = $2 {\\theta}_{2,2} x_2$\n"
   ]
  },
  {
   "cell_type": "markdown",
   "metadata": {},
   "source": [
    "##### That was easy but not useful...\n",
    "\n",
    "It is interesting to see the partial derivative with respect to $x_0$. However, nobody really cares how ${\\hat y}$ changes with respect to $x_0$. What we care about is: how does the MSE change with respect to ${\\theta}_{2,0}$? That would tell us if we wanted to adjust ${\\theta}_{2,0}$ to be a little bit bigger or a little bit smaller to make the MSE get smaller.\n",
    "\n",
    "##### Let's make it useful...\n",
    "\n",
    "Remember that Mean Squared Error is:\n",
    "\n",
    "MSE = $\\mathrm{\\sum(y - \\hat y)}^{2}$\n",
    "\n",
    "For our example, \n",
    "\n",
    "${\\hat y}$ = ${f}_2({X})$ = $\\sum_{i=0}^{2} {\\theta}_{2,i} {x_i}^{2}$ = ${\\theta}_{2,0} {x_0}^{2}$ + ${\\theta}_{2,1} {x_1}^{2}$ + ${\\theta}_{2,2} {x_2}^{2}$\n",
    "\n",
    "Then:\n",
    "\n",
    "$\\frac{\\partial {MSE}}{\\partial {\\theta}_{2,0}}$ = $\\frac{\\partial ([y - \\sum_{i=0}^{2} {\\theta}_{2,i} {x_i}^{2}]^{2})}{\\partial {\\theta}_{2,0}}$ = argh!!!\n",
    "\n",
    "In reality we will see that even for simple regression we will often use multiple functions ${f}_j({X})$ so we get:\n",
    "\n",
    "$\\frac{\\partial {MSE}}{\\partial {\\theta}_{2,0}}$ = $\\frac{\\partial ([y - \\sum_{j=0}^{K} \\sum_{i=0}^{N} {\\theta}_{j,i} {x_i}^{j}]^{2})}{\\partial {\\theta}_{2,0}}$ = ARGH!!!\n",
    "\n",
    "And remember that we must do this for all the training data points - for all the ${X}_k$ - and combine the results to make one partial derivative so we can adjust ${\\theta}$ - AAARRRGGGHHH!!!\n",
    "\n",
    "\n",
    "###### Saved by the bells!\n",
    "\n",
    "This is starting to look a little messy. Not impossible, but you can see that anything other than the simple cases will be ... not simple!\n",
    "\n",
    "... (and I was getting a little sloppy with the math, so I need to retreat from this)\n",
    "\n",
    "Fortunately, we are saved by three bells (not Isabel; sorry).\n",
    "\n",
    "###### (1) Those clever Machine Learning people did that already\n",
    "\n",
    "Unless you are planning on getting a Ph.D. in Artificial Intelligence, you won't be working out these partial differentials. The libraries we use (SciKit-Learn and TensorFlow) and other libraries have already put in correct code to satisfy almost all cases that are normally used. The hard work is done for you!\n",
    "\n",
    "###### (2) They are cleverer (...ererer) than that! TensorFlow will figure out YOUR partial differentials\n",
    "\n",
    "As we will see a little bit later, if you want to use non-standard equations you give TensorFlow the information to figure out your equations and the partial derivatives - it does the hard work for you!\n",
    "\n",
    "There is a fantastic description of how this works in Appendix D of the book \"Hands-On Machine Learning with SciKit-Learn and TensorFlow\" by A. Geron. Some really beautiful mathematics!\n",
    "\n",
    "###### (3) We could have just approximated it anyway - it just wouldn't be as accurate or efficient\n",
    "\n",
    "You can always approximate a derivative of a function at a point by calculating the function value at two nearby points and then calculating the slope of the resultant line. This approximation technique was used in Artificial Intelligence before the algorithm for automatic differentiation was known. It works but slower and not as beautiful."
   ]
  },
  {
   "cell_type": "markdown",
   "metadata": {},
   "source": [
    "##### OK find the zeros of the derivative - how do we do that?\n",
    "\n",
    "Not quite the same but ... remember in the Newton-Rhapson method where you calculate the slope, extend the slope out to some point (usually y=0) then re-evaluate at that point and gradually move to the zero-crossing point.\n",
    "\n",
    "##### Gradient Descent\n",
    "\n",
    "The Newton-Rhapson algorithm is an example of gradient descent, where we follow the gradient (slope) in increments to get to the point we are searching for.\n",
    "\n"
   ]
  },
  {
   "cell_type": "markdown",
   "metadata": {},
   "source": [
    "##### Alrighty then - let's SciKit-Learn and Approximate Approximate Approximate!\n",
    "\n",
    "Going back to the original ${X}$ and $y$, let's see what it takes to get SciKit-Learn to do a Linear Regression fit and see if the intercept and slope agree with the normal equation"
   ]
  },
  {
   "cell_type": "code",
   "execution_count": 13,
   "metadata": {},
   "outputs": [
    {
     "name": "stdout",
     "output_type": "stream",
     "text": [
      "[ 4.21509616]   [[ 2.77011339]]\n"
     ]
    }
   ],
   "source": [
    "from sklearn.linear_model import LinearRegression # imports to learn how to call and use Linear Regression\n",
    "lin_reg = LinearRegression()       # lin_reg is a Linear Regression object\n",
    "lin_reg.fit(X, y)                  # call the \"fit\" method of lin_reg with our X and y\n",
    "print(lin_reg.intercept_, \" \", lin_reg.coef_) # show the result"
   ]
  },
  {
   "cell_type": "code",
   "execution_count": 16,
   "metadata": {},
   "outputs": [
    {
     "name": "stdout",
     "output_type": "stream",
     "text": [
      "X_new is\n",
      " [[0]\n",
      " [2]] \n",
      "Predicted y is\n",
      " [[ 4.21509616]\n",
      " [ 9.75532293]]\n"
     ]
    }
   ],
   "source": [
    "# Just 3 lines to do the job, one to print the results!!!\n",
    "\n",
    "# Now how would we predict a particular point for some X value? They have a way to do that\n",
    "# remember that X_new has X values of 0 and 2 so we can plot a line of the predictions\n",
    "\n",
    "y_hat = lin_reg.predict(X_new) # call the \"predict\" method of lin_reg with our X_new\n",
    "print(\"X_new is\\n\", X_new, \"\\nPredicted y is\\n\", y_hat) # show the result"
   ]
  },
  {
   "cell_type": "code",
   "execution_count": 17,
   "metadata": {},
   "outputs": [
    {
     "data": {
      "image/png": "[encoded data removed]",
      "text/plain": [
       "<matplotlib.figure.Figure at 0x1bde50d5c18>"
      ]
     },
     "metadata": {},
     "output_type": "display_data"
    }
   ],
   "source": [
    "# by now this code to produce a plot might be looking familiar...\n",
    "\n",
    "plt.plot(X_new, y_hat, \"r-\", linewidth=2, label=\"${\\hat y}$\")\n",
    "plt.plot(X, y, \"b.\")\n",
    "plt.xlabel(\"$x_1$\", fontsize=18)\n",
    "plt.ylabel(\"$y$\", rotation=0, fontsize=18)\n",
    "plt.legend(loc=\"upper left\", fontsize=14)\n",
    "plt.axis([0, 2, 0, 15])\n",
    "save_fig(\"SciKit-Learn Predictions\")\n",
    "plt.show()"
   ]
  },
  {
   "cell_type": "code",
   "execution_count": null,
   "metadata": {
    "collapsed": true
   },
   "outputs": [],
   "source": []
  },
  {
   "cell_type": "code",
   "execution_count": null,
   "metadata": {
    "collapsed": true
   },
   "outputs": [],
   "source": []
  },
  {
   "cell_type": "markdown",
   "metadata": {},
   "source": [
    "###### Learning Rate - a HyperParameter\n",
    "\n",
    "We need to be careful not to take steps too large or we may just hop back and forth across the point we seek. Many algorithms have a step size that can be specified. The SciKit-Learn LinearRegression() algorithm works on such a well-formed problem that this is not needed, but once we get to more complicated regressions many will have such a capability. When available, the \"step size\" is known as the Learning Rate and is an example of a \"Hyperparameter\". A Hyperparameter is a feature of the algorithm that controls the algorithm and needs to be set to a workable value by your intuition, experience, or by experiment.\n",
    "\n",
    "In the case of Learning Rate, if set to small (low) then it takes a long time to reach the answer. If set too large (high) then we can bounce around and never stop near the answer.\n",
    "\n",
    "The learning rate is usually multiplied by the slope with respect to each ${\\theta}_i$ in turn to determine how far to move that ${\\theta}_i$.\n",
    "\n",
    "The following graph tries to illustrate this effect. The green dots take such big steps they just bounce around back and forth (unrealistically they go back and forth to the exact same spot). The red dots move slowly and converge on the minimum."
   ]
  },
  {
   "cell_type": "code",
   "execution_count": 18,
   "metadata": {},
   "outputs": [
    {
     "name": "stdout",
     "output_type": "stream",
     "text": [
      "Learning Rate Step Size effect\n",
      "   Illustration not completely accurate\n"
     ]
    },
    {
     "data": {
      "image/png": "[encoded data removed]",
      "text/plain": [
       "<matplotlib.figure.Figure at 0x1bde3066710>"
      ]
     },
     "metadata": {},
     "output_type": "display_data"
    }
   ],
   "source": [
    "# let's show Learning Rate too large - and not too large.\n",
    "# This is an illustration not completely accurate\n",
    "print(\"Learning Rate Step Size effect\\n   Illustration not completely accurate\")\n",
    "X_q = np.arange(-5, 5, 0.01)\n",
    "y_q = np.empty(shape=(len(X_q)))\n",
    "for idx in range(len(X_q)):\n",
    "   y_q[idx] = X_q[idx]*X_q[idx] + 3.0\n",
    "idxmiddle = int(len(X_q)/2)+1\n",
    "idx_1_5 = int(len(X_q)/5)\n",
    "X_trybig = [[X_q[idxmiddle-idx_1_5]], [X_q[idxmiddle+idx_1_5]]]\n",
    "y_trybig = [[y_q[idxmiddle-idx_1_5]], [y_q[idxmiddle+idx_1_5]]]\n",
    "xtnd = 4.0 # how far to stick out to the right\n",
    "X_slopebig = [[X_trybig[0][0]-1.0], [X_trybig[0][0]+xtnd]]\n",
    "y_slopebig = [[y_trybig[0][0]-2*X_trybig[0][0]], [y_trybig[0][0]+2*xtnd*X_trybig[0][0]]]\n",
    "X_upbig = [[X_trybig[1][0]], [X_trybig[1][0]]]\n",
    "y_upbig = [[y_trybig[1][0]], [-8.8]]\n",
    "X_trysmall = []\n",
    "y_trysmall = []\n",
    "idx_small = int(idx_1_5/8)\n",
    "for idx in range(idxmiddle-idx_1_5, idxmiddle+2, idx_small):\n",
    "    X_trysmall.append(X_q[idx])\n",
    "    y_trysmall.append(y_q[idx])\n",
    "plt.plot(X_trysmall, y_trysmall, \"ro\", label=\"Little Step\")\n",
    "plt.plot(X_trybig, y_trybig, \"gs\", label=\"Big Step\")\n",
    "plt.plot(X_slopebig, y_slopebig, \"k-\", label=\"Slope\")\n",
    "plt.plot(X_upbig, y_upbig, \"k-\", label=\"Up Big Step\")\n",
    "plt.plot(X_q, y_q, \"b,\", label=\"Curve\")\n",
    "plt.xlabel(\"$x_1$\", fontsize=18)\n",
    "plt.ylabel(\"$y$\", rotation=0, fontsize=18)\n",
    "plt.legend(loc=\"lower left\", fontsize=14)\n",
    "plt.axis([-5, +5, -10, 10])\n",
    "plt.show()"
   ]
  },
  {
   "cell_type": "markdown",
   "metadata": {
    "collapsed": true
   },
   "source": [
    "##### Multivariate Regression - you can say goodbye to linear!\n",
    "\n",
    "Regression will find a best match for a linear combination of the variable(s) you give it plus a constant. But you can create additional variables that are non-linear combinations of the existing variables. For instance if you have a simple variable x, you can create additional \"variables\" ${x}^{2}$, ${x}^{3}$, etc. Then the \"linear\" regression can find a fit - for example a least-squares fit - for a quadratic or a cubic or higher order equation.\n",
    "\n",
    "For instance, consider the following curve:"
   ]
  },
  {
   "cell_type": "code",
   "execution_count": 114,
   "metadata": {},
   "outputs": [
    {
     "data": {
      "image/png": "[encoded data removed]",
      "text/plain": [
       "<matplotlib.figure.Figure at 0x1bde57d25c0>"
      ]
     },
     "metadata": {},
     "output_type": "display_data"
    }
   ],
   "source": [
    "x = np.arange(0, 5, 0.01)\n",
    "y_q = np.empty(shape=(len(x)))\n",
    "noise = np.random.rand(1000, 1)*5\n",
    "for idx in range(len(x)):\n",
    "   y_q[idx] = (x[idx] -1)*(2*x[idx]-2)*(x[idx]-4) + 4.0 + noise[idx]\n",
    "plt.plot(x, y_q, \"b,\", label=\"Curve\")\n",
    "plt.xlabel(\"$x$\", fontsize=18)\n",
    "plt.ylabel(\"$y$\", rotation=0, fontsize=18)\n",
    "plt.legend(loc=\"upper left\", fontsize=14)\n",
    "plt.axis([0, +5, -5, 40])\n",
    "plt.show()"
   ]
  },
  {
   "cell_type": "markdown",
   "metadata": {},
   "source": [
    "##### Try this with your linear regression!!!\n",
    "\n",
    "If we give the linear regression ${X}_i$ = ${x}^{i}$ for i = 1, 2 and 3...\n",
    "\n",
    "similar to our previous example but in a slightly different form\n",
    "\n",
    "${\\hat y}$ = ${\\theta}_{0}$ + $\\sum_{i=1}^{3} {\\theta}_{i} {x_i}$ = ${\\theta}_{0}$ + ${\\theta}_{1} {x_1}$ + ${\\theta}_{2} {x_2}$ + ${\\theta}_{3} {x_3}$\n",
    "\n",
    "We can solve for ${\\theta}_{i}$ to minimize the RMSE\n",
    "\n",
    "Multiplying out our example, this is what we are looking for:\n",
    "\n",
    "$y$ = -4 + 18 ${x}$ - 12 ${x}^{2}$ + 2 ${x}^{3}$ + noise"
   ]
  },
  {
   "cell_type": "code",
   "execution_count": 115,
   "metadata": {},
   "outputs": [
    {
     "name": "stdout",
     "output_type": "stream",
     "text": [
      "-1.43564596061   [ 17.81382706 -11.82931936   1.96915852]\n"
     ]
    },
    {
     "data": {
      "image/png": "[encoded data removed]",
      "text/plain": [
       "<matplotlib.figure.Figure at 0x1bde587f438>"
      ]
     },
     "metadata": {},
     "output_type": "display_data"
    }
   ],
   "source": [
    "from sklearn.linear_model import LinearRegression\n",
    "\n",
    "X_q = np.empty(shape=(len(x),3))\n",
    "for idx in range(len(x)):\n",
    "    X_q[idx] = (x[idx], x[idx]**2, x[idx]**3)\n",
    "lin_reg = LinearRegression()\n",
    "lin_reg.fit(X_q, y_q)\n",
    "y_hat = lin_reg.predict(X_q)\n",
    "plt.plot(x, y_q, \"b,\", label=\"Curve\")\n",
    "plt.plot(x, y_hat, \"r,\", label=\"predict\")\n",
    "plt.xlabel(\"$x$\", fontsize=18)\n",
    "plt.ylabel(\"$y$\", rotation=0, fontsize=18)\n",
    "plt.legend(loc=\"upper left\", fontsize=14)\n",
    "plt.axis([0, 5, -5, 40])\n",
    "print(lin_reg.intercept_, \" \", lin_reg.coef_) # show the linear regression resulting theta coefficients\n",
    "plt.show()"
   ]
  },
  {
   "cell_type": "markdown",
   "metadata": {},
   "source": [
    "##### Wow! that looks great! What could possibly go wrong?\n",
    "\n",
    "$y$ = -4 + 18 ${x}$ - 12 ${x}^{2}$ + 2 ${x}^{3}$ + noise\n",
    "\n",
    "${\\hat y}$ = -1.44 + 17.82 ${x}$ - 11.83 ${x}^{2}$ + 1.97 ${x}^{3}$\n",
    "\n",
    "It captured the coefficients of ${x}$ quite well. It missed the intercept but got the general nature of the curve!\n",
    "\n",
    "Well there are always the classic dangers of underfitting and overfitting.\n",
    "\n",
    "##### Underfitting when the model does not have enough complexity to fit the data...\n",
    "\n",
    "Below is what happens when we try to fit an order-2 polynomial onto our order-3 data. Linear Regression gives a curve with close to the minimum RMSE, but it is obviously not right and would not \"generalize\" well at all - in other words, it probably gives wildly wrong answers if we try to apply it in regions that are not in the interval where we had training data."
   ]
  },
  {
   "cell_type": "code",
   "execution_count": 116,
   "metadata": {},
   "outputs": [
    {
     "name": "stdout",
     "output_type": "stream",
     "text": [
      "10.7244488473   [-11.5760805    2.90983218]\n"
     ]
    },
    {
     "data": {
      "image/png": "[encoded data removed]",
      "text/plain": [
       "<matplotlib.figure.Figure at 0x1bde587f550>"
      ]
     },
     "metadata": {},
     "output_type": "display_data"
    }
   ],
   "source": [
    "X_q = np.empty(shape=(len(x),2))\n",
    "for idx in range(len(x)):\n",
    "    X_q[idx] = (x[idx], x[idx]**2)\n",
    "lin_reg = LinearRegression()\n",
    "lin_reg.fit(X_q, y_q)\n",
    "y_hat = lin_reg.predict(X_q)\n",
    "plt.plot(x, y_q, \"b,\", label=\"Curve\")\n",
    "plt.plot(x, y_hat, \"r,\", label=\"predict\")\n",
    "plt.xlabel(\"$x$\", fontsize=18)\n",
    "plt.ylabel(\"$y$\", rotation=0, fontsize=18)\n",
    "plt.legend(loc=\"upper left\", fontsize=14)\n",
    "plt.axis([0, 5, -5, 40])\n",
    "print(lin_reg.intercept_, \" \", lin_reg.coef_) # show the linear regression resulting theta coefficients\n",
    "plt.show()"
   ]
  },
  {
   "cell_type": "markdown",
   "metadata": {},
   "source": [
    "##### Overfitting - when the model has more complexity than the underlying data so it starts fitting the noise or some coincidences\n",
    "\n",
    "Especially likely with a small amount of training data and enough model complexity (in this case, high enough polynomial order) to start fitting the curve through individual training points even though the training points contain noise or other effects by coincidence (such as goats standing on green grass).\n",
    "\n",
    "Overfitted models also do not \"generalize\" well. As seen below, it probably gives wildly wrong answers if we try to apply it in regions that are not in the interval where we had training data. More than that, it gives what we know to be wildly wrong answers in the interval where we do have training data, even though it is probably very accurate on the exact points we gave it."
   ]
  },
  {
   "cell_type": "code",
   "execution_count": 133,
   "metadata": {},
   "outputs": [
    {
     "name": "stdout",
     "output_type": "stream",
     "text": [
      "0.469802844854   [  3.78700364e+00   3.01477098e+00   2.10806589e+00   1.04027670e+00\n",
      "  -4.93936387e-02  -9.60669618e-01  -1.43033413e+00  -1.23145021e+00\n",
      "  -3.68790452e-01   7.22219493e-01   1.22276168e+00   5.19164645e-01\n",
      "  -8.29190420e-01  -1.01519478e+00   6.14564195e-01   9.99489338e-01\n",
      "  -1.34386476e+00   7.46075557e-01  -2.40660190e-01   4.85045763e-02\n",
      "  -6.05618995e-03   4.30689344e-04  -1.33856054e-05]\n"
     ]
    },
    {
     "data": {
      "image/png": "[encoded data removed]",
      "text/plain": [
       "<matplotlib.figure.Figure at 0x1bde32092b0>"
      ]
     },
     "metadata": {},
     "output_type": "display_data"
    }
   ],
   "source": [
    "def calc_poly_vector(poly_order, x_input_val):\n",
    "    X_output_vector = []\n",
    "    x_next_poly = 1.0\n",
    "    for poly in range(poly_order):\n",
    "        x_next_poly *= x_input_val\n",
    "        X_output_vector.append(x_next_poly)\n",
    "    return X_output_vector\n",
    "\n",
    "x = np.arange(0, 5, 0.25)\n",
    "y_q = np.empty(shape=(len(x)))\n",
    "noise = np.random.rand(5000, 1)*5\n",
    "for idx in range(len(x)):\n",
    "   y_q[idx] = (x[idx] -1)*(2*x[idx]-2)*(x[idx]-4) + 4.0 + noise[idx]\n",
    "\n",
    "lin_reg_poly_order = 23\n",
    "X_q = np.empty(shape=(len(x),lin_reg_poly_order))\n",
    "for idx in range(len(x)):\n",
    "    X_q[idx] = calc_poly_vector(lin_reg_poly_order, x[idx]).copy()\n",
    "\n",
    "x_pred = np.arange(0, 5, 0.0025)\n",
    "X_qpred = np.empty(shape=(len(x_pred),lin_reg_poly_order))\n",
    "for idx in range(len(x_pred)):\n",
    "    X_qpred[idx] = calc_poly_vector(lin_reg_poly_order, x_pred[idx]).copy()\n",
    "\n",
    "lin_reg = LinearRegression()\n",
    "lin_reg.fit(X_q, y_q)\n",
    "y_hat = lin_reg.predict(X_qpred)\n",
    "plt.plot(x, y_q, \"bo\", label=\"Curve\")\n",
    "plt.plot(x_pred, y_hat, \"r,\", label=\"predict\")\n",
    "plt.xlabel(\"$x$\", fontsize=18)\n",
    "plt.ylabel(\"$y$\", rotation=0, fontsize=18)\n",
    "plt.legend(loc=\"upper left\", fontsize=14)\n",
    "plt.axis([0, +5, -20, 60])\n",
    "print(lin_reg.intercept_, \" \", lin_reg.coef_) # show the linear regression resulting theta coefficients\n",
    "plt.show()"
   ]
  },
  {
   "cell_type": "markdown",
   "metadata": {},
   "source": [
    "##### Augmenting the data can be a powerful technique\n",
    "\n",
    "We have seen the use of Multinomial Regression to allow fitting (modeling) data that needs more power than a straight line fit. We have also seen how we can augment the data to have higher order terms as we did above by adding powers of the original data. In the housing project we saw how to augment the data by combining terms and thus creating new terms with more predictive power, such as dividing total_bedrooms by total_rooms to create bedrooms_per_room with more predictive power than both of the original terms.\n",
    "\n",
    "Of course, as we have just shown, care must be taken to avoid underfitting and overfitting.\n",
    "\n",
    "As a point of further investigation, you can look for information on something called \"the kernal trick\". Using this method, you can have the model train \"as if\" you had calculated lots of extra new terms to add to the sample data without actually having to compute those terms. You can even have it work as if there were an infinite number of terms.\n",
    "\n",
    "##### The curse of dimensionality\n",
    "\n",
    "However, there can be problems with augmenting each sample point to create samples with thousands of terms or \"features\" in addition to those discussed above.\n",
    "\n",
    "One obvious problem is the additional computation needed and thus time needed to train and to use the model.\n",
    "\n",
    "More fundamentally, adding dimensions to the data has the characteristic of making the data more sparse. We had already mentioned how sparse data can contribute to overfitting.\n",
    "\n",
    "You can see this dimension/sparseness relation intuitively by thinking of the synthetic example we examined above: when we had one dimension of data, we had a certain number of points for the range of [0, 5]. As we went to including the powers of that original sample data, each time we added another power of the sample as a feature, the state space of the input data gained a dimension.\n",
    "\n",
    "Intuitively, when we go from a line of length 5 inches to a square of side length 5 inches we go from 5 inches to 25 (or ${5}^{2}$) square inches. Adding another dimension takes us to 125 (${5}^{3}$) cubic inches. But if we started with a density of 500 data samples to cover our range of 5 in one dimension, we intuitively see that we would need something like ${500}^{2}$ samples to cover our range of ${5}^{2}$ in two dimensions with the same density, and something like ${500}^{3}$ samples for three dimensions of range ${5}^{3}$ with the same density.\n",
    "\n",
    "However, we didn't add samples, we added dimensions to our existing samples. Thus our sample density became less (conversely, the sparseness of our data became greater) and this means that there is more \"area\" in our sample space for which we have no data. That is why when we overfit we see the model going all over the place but passing right through our data points: there is no penalty for the data going into regions for which we have no training samples.\n",
    "\n",
    "In general, algorithmic learning with a larger number of features means that it will take longer for the learning to complete and that more (much more) training data is required to avoid overfitting, and if we don't get enough training data there is the danger that even in the region where we have training data we will be left with unexpected model behavior.\n",
    "\n",
    "##### Amazingly, people have already thought of this!\n",
    "\n",
    "Remember that we trained our model with RMSE, so the only thing it was optimizing for was how closely it matched our sample data points. We can change the optimization criteria to include terms that penalize for using non-zero coefficients on the many features (dimensions)! Then it would not only try to match the data points but also try to use as few features in each point as practical.\n",
    "\n",
    "By adjusting these terms, you can make it more likely to try to drive one of two coefficients to zero than it is to have both coefficients at 0.5. This will tend to identify input features that have low value or are redundant to other features.\n",
    "\n",
    "##### This techique is called dimensionality reduction.\n",
    "\n",
    "I won't show examples here, but there are many available on the web."
   ]
  },
  {
   "cell_type": "markdown",
   "metadata": {},
   "source": [
    "##### Tying it all into the Google Causal Impact example we looked at earlier this year\n",
    "\n",
    "In our earlier look at Google Causal Impact we saw that linear regression was used to predict what the current year data would have looked like without doing the event being analyzed (in the example from the podcast {see below}, the event was a band playing on the Saturday Night Live (SNL) TV show). In that example, this linear regression generated \"counter-factual\" data was compared to the actual data by use of Bayesion statistics to estimate the effect of the SNL appearance on the bands popularity judged by number of lookups on Wikipedia.\n",
    "\n",
    "The example they showed used just the simplest approach on the linear regression because they were concentrating on the big picture and also the Bayesian statistics.\n",
    "\n",
    "At the time we did our exercise earlier this year we didn't look too much at the regression part of this. Now we have a little better idea of the math behind it, and also of the power and pitfalls it can bring to our analysis.\n",
    "\n",
    "##### Background on Google Causal Impact and our earlier project\n",
    "\n",
    "We had an earlier AI project this year on Google's \"Causal Impact\", which is implemented in the \"R\" language. All the cool statistical kids are using the free and open source R language now.\n",
    "\n",
    "Below is the email I sent to the kids to introduce this project. We basically just implemented Google's example and then discussed how to use it. Carl could immediately see how it applied to some of his projects.\n",
    "\n",
    "Google Causal Impact would be extremely useful both in advertising and in financial projection.\n",
    "\n",
    "Google Causal Impact is “an approach to estimating the causal effect of a designed intervention on a time series. For example, how many additional daily clicks were generated by an advertising campaign? Answering a question like this can be difficult when a randomized experiment is not available.”\n",
    "\n",
    "There were two experiments. In the CausalImpact area there was a synthetic example. The podcast below did an example of the effect on popularity of a band after an appearance on the Saturday Night Live (SNL) TV show.\n",
    "\n",
    "Here is a slightly-more-than 1/2 hour podcast that describes it pretty well from a non-mathematical point of view. I recommend listening to it even though it is <<< non mathematical >>>; it is also a pretty good introduction.\n",
    "http://dataskeptic.com/blog/transcripts/2016/causal-impact\n",
    "\n",
    "Here is where the code is. It is open-source so you can put it on your computer and experiment with it. Note that both addresses below give a different page.\n",
    "https://google.github.io/CausalImpact/\n",
    "https://google.github.io/CausalImpact/CausalImpact.html\n",
    "\n",
    "Note that “R” is an widely-used open-source statistical package that you will need to install before installing Google Causal Impact. You will want to get somewhat familiar with this language anyway. Here is where you get it.\n",
    "https://www.r-project.org/\n",
    "\n",
    "Google Causal Impact is mostly based on Bayes theorem which I think you have seen. Bayes theorem “describes the probability of an event, based on prior knowledge of conditions that might be related to the event.\n",
    "\n",
    "For example, if cancer is related to age, then, using Bayes’ theorem, a person’s age can be used to more accurately assess the probability that they have cancer, compared to the assessment of the probability of cancer made without knowledge of the person's age.”\n",
    "https://en.wikipedia.org/wiki/Bayes'_theorem\n",
    "\n",
    "Here is a paper describing the mathematics. Might be pretty hard slogging but worth taking a scan through.\n",
    "https://research.google.com/pubs/pub41854.html\n",
    "\n"
   ]
  },
  {
   "cell_type": "code",
   "execution_count": null,
   "metadata": {
    "collapsed": true
   },
   "outputs": [],
   "source": []
  }
 ],
 "metadata": {
  "celltoolbar": "Edit Metadata",
  "kernelspec": {
   "display_name": "Python 3",
   "language": "python",
   "name": "python3"
  },
  "language_info": {
   "codemirror_mode": {
    "name": "ipython",
    "version": 3
   },
   "file_extension": ".py",
   "mimetype": "text/x-python",
   "name": "python",
   "nbconvert_exporter": "python",
   "pygments_lexer": "ipython3",
   "version": "3.5.3"
  }
 },
 "nbformat": 4,
 "nbformat_minor": 2
}
