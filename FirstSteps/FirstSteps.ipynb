{
 "cells": [
  {
   "cell_type": "markdown",
   "metadata": {},
   "source": [
    "#### This is an introduction to Python\n",
    "\n",
    "It was done in-person and I have not put comments inside the notebook."
   ]
  },
  {
   "cell_type": "code",
   "execution_count": 6,
   "metadata": {},
   "outputs": [
    {
     "name": "stdout",
     "output_type": "stream",
     "text": [
      "Hello World!\n"
     ]
    }
   ],
   "source": [
    "print(\"Hello World!\")"
   ]
  },
  {
   "cell_type": "code",
   "execution_count": 10,
   "metadata": {},
   "outputs": [
    {
     "name": "stdout",
     "output_type": "stream",
     "text": [
      "There are 3 animals:\n",
      " 0: Animal = dog, Name = Dottie\n",
      " 1: Animal = tortoise, Name = FLASH\n",
      " 2: Animal = llama, Name = Bandit\n"
     ]
    }
   ],
   "source": [
    "animal = [\"dog\", \"tortoise\", \"llama\"]\n",
    "aniName = [\"Dottie\", \"FLASH\", \"Bandit\"]\n",
    "print(\"There are %s animals:\" % len(animal))\n",
    "for idx in range(len(animal)):\n",
    "    print(\" \" + str(idx) + \": Animal = \" + animal[idx] + \", Name = \" + aniName[idx])"
   ]
  },
  {
   "cell_type": "code",
   "execution_count": 18,
   "metadata": {},
   "outputs": [
    {
     "name": "stdout",
     "output_type": "stream",
     "text": [
      "FLASH is a tortoise\n",
      "Dottie is a dog\n",
      "Bandit is a llama\n",
      "\n",
      "Adding a pet...\n",
      "\n",
      "FLASH is a tortoise\n",
      "Dottie is a dog\n",
      "Bandit is a llama\n",
      "Jiminy is a cricket\n",
      "\n",
      "Alphabetizing by animal type...\n",
      "\n",
      "Jiminy is a cricket\n",
      "Dottie is a dog\n",
      "Bandit is a llama\n",
      "FLASH is a tortoise\n"
     ]
    }
   ],
   "source": [
    "myPets = {\"dog\": \"Dottie\", \"tortoise\": \"FLASH\", \"llama\": \"Bandit\"}\n",
    "for key in myPets.keys():\n",
    "    print(\"%s is a %s\" % (myPets[key], key))\n",
    "print(\"\\nAdding a pet...\\n\")\n",
    "myPets[\"cricket\"] = \"Jiminy\"\n",
    "for key in myPets.keys():\n",
    "    print(\"%s is a %s\" % (myPets[key], key))\n",
    "print(\"\\nAlphabetizing by animal type...\\n\")\n",
    "sortedKeys = sorted(myPets.keys())\n",
    "for key in sortedKeys:\n",
    "    print(\"%s is a %s\" % (myPets[key], key))"
   ]
  },
  {
   "cell_type": "code",
   "execution_count": 25,
   "metadata": {},
   "outputs": [
    {
     "name": "stdout",
     "output_type": "stream",
     "text": [
      "\n",
      "   A test\n",
      "\n",
      "No Dictionary To Print is a That's all folks...\n",
      "\n",
      "   Another test\n",
      "\n",
      "Pet is a rock\n",
      "\n",
      "   Now the pets in hash order\n",
      "\n",
      "FLASH is a tortoise\n",
      "Dottie is a dog\n",
      "Bandit is a llama\n",
      "Jiminy is a cricket\n",
      "\n",
      "   Now the pets sorted by animal type\n",
      "\n",
      "Jiminy is a cricket\n",
      "Dottie is a dog\n",
      "Bandit is a llama\n",
      "FLASH is a tortoise\n"
     ]
    }
   ],
   "source": [
    "def showAnimalDictionary(myKeys = None, myDict = {\"--- That's all folks...\": \"No Dictionary To Print\"}):\n",
    "    if None == myKeys:\n",
    "        myKeys = myDict.keys()\n",
    "    for key in myKeys:\n",
    "        print(\"%s is a %s\" % (myDict[key], key))\n",
    "\n",
    "print(\"\\n   A test\\n\")\n",
    "showAnimalDictionary()\n",
    "print(\"\\n   Another test\\n\")\n",
    "showAnimalDictionary(myDict = {\"rock\": \"Pet\"})\n",
    "print(\"\\n   Now the pets in hash order\\n\")\n",
    "showAnimalDictionary(myDict = myPets)\n",
    "print(\"\\n   Now the pets sorted by animal type\\n\")\n",
    "showAnimalDictionary(myDict = myPets, myKeys = sortedKeys)"
   ]
  },
  {
   "cell_type": "code",
   "execution_count": null,
   "metadata": {
    "collapsed": true
   },
   "outputs": [],
   "source": []
  }
 ],
 "metadata": {
  "kernelspec": {
   "display_name": "Python 3",
   "language": "python",
   "name": "python3"
  },
  "language_info": {
   "codemirror_mode": {
    "name": "ipython",
    "version": 3
   },
   "file_extension": ".py",
   "mimetype": "text/x-python",
   "name": "python",
   "nbconvert_exporter": "python",
   "pygments_lexer": "ipython3",
   "version": "3.5.3"
  }
 },
 "nbformat": 4,
 "nbformat_minor": 2
}
